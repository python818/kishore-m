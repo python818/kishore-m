{
 "cells": [
  {
   "cell_type": "code",
   "execution_count": 1,
   "id": "e3601e4a",
   "metadata": {},
   "outputs": [
    {
     "ename": "SyntaxError",
     "evalue": "invalid syntax (4273084294.py, line 1)",
     "output_type": "error",
     "traceback": [
      "\u001b[0;36m  Cell \u001b[0;32mIn[1], line 1\u001b[0;36m\u001b[0m\n\u001b[0;31m    **230901049 M.Kishore\u001b[0m\n\u001b[0m    ^\u001b[0m\n\u001b[0;31mSyntaxError\u001b[0m\u001b[0;31m:\u001b[0m invalid syntax\n"
     ]
    }
   ],
   "source": [
    "#230901049\n",
    "#M.Kishore\n",
    "\n",
    "import pandas as pd\n",
    "import numpy as np\n",
    "from datetime import datetime\n",
    "dates=[datetime(2025,4,1),datetime(2025,4,3),datetime(2025,4,6),datetime(2025,4,9),datetime(2025,4,18),datetime(2025,4,30)]\n",
    "p=pd.Series(np.random.randn(6),index=dates)\n",
    "print(\"Date index:\",p)"
   ]
  },
  {
   "cell_type": "code",
   "execution_count": 6,
   "id": "fcd4894e",
   "metadata": {},
   "outputs": [
    {
     "name": "stdout",
     "output_type": "stream",
     "text": [
      "Date index alone from Series:\n",
      " DatetimeIndex(['2025-04-01', '2025-04-03', '2025-04-06', '2025-04-09',\n",
      "               '2025-04-18', '2025-04-30'],\n",
      "              dtype='datetime64[ns]', freq=None)\n"
     ]
    }
   ],
   "source": [
    "print(\"Date index alone from Series:\\n\",p.index)"
   ]
  },
  {
   "cell_type": "code",
   "execution_count": 7,
   "id": "0284b6c9",
   "metadata": {},
   "outputs": [
    {
     "name": "stdout",
     "output_type": "stream",
     "text": [
      "Second index:\n",
      " 2025-04-06 00:00:00\n"
     ]
    }
   ],
   "source": [
    "s=p.index[2]\n",
    "print(\"Second index:\\n\",s)"
   ]
  },
  {
   "cell_type": "code",
   "execution_count": 11,
   "id": "1370446a",
   "metadata": {},
   "outputs": [
    {
     "name": "stdout",
     "output_type": "stream",
     "text": [
      "Daterange upto 1000 days: 2024-12-14    1.353919\n",
      "2024-12-15    1.170220\n",
      "2024-12-16   -1.941424\n",
      "2024-12-17    0.744696\n",
      "2024-12-18    0.683977\n",
      "                ...   \n",
      "2027-09-05    0.316732\n",
      "2027-09-06    0.228264\n",
      "2027-09-07   -1.115036\n",
      "2027-09-08    0.037036\n",
      "2027-09-09   -1.170801\n",
      "Freq: D, Length: 1000, dtype: float64\n"
     ]
    }
   ],
   "source": [
    "longer_p=pd.Series(np.random.randn(1000),index=pd.date_range(\"2024-12-14\",periods=1000))\n",
    "print(\"Daterange upto 1000 days:\",longer_p)"
   ]
  },
  {
   "cell_type": "code",
   "execution_count": 14,
   "id": "d37b20f5",
   "metadata": {},
   "outputs": [
    {
     "name": "stdout",
     "output_type": "stream",
     "text": [
      "Date range 2026year:\n",
      " 2026-01-01   -1.545301\n",
      "2026-01-02   -0.735465\n",
      "2026-01-03    1.559045\n",
      "2026-01-04   -1.379132\n",
      "2026-01-05    1.112831\n",
      "                ...   \n",
      "2026-12-27    0.205804\n",
      "2026-12-28   -0.360784\n",
      "2026-12-29    1.322206\n",
      "2026-12-30    0.934556\n",
      "2026-12-31   -1.191922\n",
      "Freq: D, Length: 365, dtype: float64\n"
     ]
    }
   ],
   "source": [
    "print(\"Date range 2026year:\\n\",longer_p[\"2026\"])"
   ]
  },
  {
   "cell_type": "code",
   "execution_count": 15,
   "id": "8e8e5fdb",
   "metadata": {},
   "outputs": [
    {
     "name": "stdout",
     "output_type": "stream",
     "text": [
      "Date range 2026-10year:\n",
      " 2026-10-01   -0.155429\n",
      "2026-10-02   -0.399404\n",
      "2026-10-03    1.344621\n",
      "2026-10-04    0.695794\n",
      "2026-10-05   -0.596998\n",
      "2026-10-06   -0.433087\n",
      "2026-10-07   -0.087185\n",
      "2026-10-08   -0.164369\n",
      "2026-10-09   -0.070238\n",
      "2026-10-10   -0.783730\n",
      "2026-10-11    0.825574\n",
      "2026-10-12    2.242418\n",
      "2026-10-13   -0.076848\n",
      "2026-10-14   -0.180677\n",
      "2026-10-15    0.601926\n",
      "2026-10-16   -0.516542\n",
      "2026-10-17    0.477495\n",
      "2026-10-18    0.000854\n",
      "2026-10-19    0.990598\n",
      "2026-10-20    0.849633\n",
      "2026-10-21    0.143738\n",
      "2026-10-22   -0.088233\n",
      "2026-10-23   -0.144483\n",
      "2026-10-24   -0.470457\n",
      "2026-10-25   -0.350151\n",
      "2026-10-26    0.022766\n",
      "2026-10-27    0.264399\n",
      "2026-10-28   -1.033011\n",
      "2026-10-29   -0.637323\n",
      "2026-10-30    0.385124\n",
      "2026-10-31   -0.605825\n",
      "Freq: D, dtype: float64\n"
     ]
    }
   ],
   "source": [
    "##230901049\n",
    "#M.Kishore\n",
    "print(\"Date range 2026-10year:\\n\",longer_p[\"2026-10\"])"
   ]
  },
  {
   "cell_type": "code",
   "execution_count": 16,
   "id": "703539ba",
   "metadata": {},
   "outputs": [
    {
     "name": "stdout",
     "output_type": "stream",
     "text": [
      "Few days in 2026:\n",
      " 2026-01-01   -1.545301\n",
      "2026-01-02   -0.735465\n",
      "2026-01-03    1.559045\n",
      "2026-01-04   -1.379132\n",
      "2026-01-05    1.112831\n",
      "Freq: D, dtype: float64\n"
     ]
    }
   ],
   "source": [
    "print(\"Few days in 2026:\\n\",longer_p[\"2026\"].head())"
   ]
  },
  {
   "cell_type": "code",
   "execution_count": 17,
   "id": "77166312",
   "metadata": {},
   "outputs": [
    {
     "name": "stdout",
     "output_type": "stream",
     "text": [
      "First 10 days in 2026:\n",
      " 2026-01-01   -1.545301\n",
      "2026-01-02   -0.735465\n",
      "2026-01-03    1.559045\n",
      "2026-01-04   -1.379132\n",
      "2026-01-05    1.112831\n",
      "2026-01-06    0.564720\n",
      "2026-01-07    2.449576\n",
      "2026-01-08    0.144018\n",
      "2026-01-09   -1.019864\n",
      "2026-01-10   -0.635713\n",
      "Freq: D, dtype: float64\n"
     ]
    }
   ],
   "source": [
    "print(\"First 10 days in 2026:\\n\",longer_p[\"2026\"].head(10))"
   ]
  },
  {
   "cell_type": "code",
   "execution_count": 19,
   "id": "c0f28d13",
   "metadata": {},
   "outputs": [
    {
     "name": "stdout",
     "output_type": "stream",
     "text": [
      "date range-rom 09-09-2026:\n",
      " 2026-09-09    0.931460\n",
      "2026-09-10    0.922671\n",
      "2026-09-11   -0.542735\n",
      "2026-09-12   -2.333799\n",
      "2026-09-13   -1.858707\n",
      "                ...   \n",
      "2027-09-05    0.316732\n",
      "2027-09-06    0.228264\n",
      "2027-09-07   -1.115036\n",
      "2027-09-08    0.037036\n",
      "2027-09-09   -1.170801\n",
      "Freq: D, Length: 366, dtype: float64\n"
     ]
    }
   ],
   "source": [
    "print(\"date range-rom 09-09-2026:\\n\",longer_p[datetime(2026,9,9):])"
   ]
  },
  {
   "cell_type": "code",
   "execution_count": 20,
   "id": "7353e606",
   "metadata": {},
   "outputs": [
    {
     "name": "stdout",
     "output_type": "stream",
     "text": [
      "Date range from 09/09/2025 to 09/10/2025:\n",
      " 2025-09-09    3.187773\n",
      "2025-09-10    0.558143\n",
      "2025-09-11    0.129954\n",
      "2025-09-12   -1.630139\n",
      "2025-09-13    0.862218\n",
      "2025-09-14    0.384352\n",
      "2025-09-15   -0.251351\n",
      "2025-09-16    0.109683\n",
      "2025-09-17    0.152095\n",
      "2025-09-18    0.164064\n",
      "2025-09-19   -1.199655\n",
      "2025-09-20    0.947243\n",
      "2025-09-21    0.459057\n",
      "2025-09-22    0.239716\n",
      "2025-09-23   -1.560480\n",
      "2025-09-24   -1.712052\n",
      "2025-09-25   -0.158511\n",
      "2025-09-26    0.199759\n",
      "2025-09-27   -0.667190\n",
      "2025-09-28    1.018573\n",
      "2025-09-29    0.502428\n",
      "2025-09-30    0.249541\n",
      "2025-10-01   -0.726377\n",
      "2025-10-02   -0.739981\n",
      "2025-10-03    1.492172\n",
      "2025-10-04   -0.890892\n",
      "2025-10-05   -1.253900\n",
      "2025-10-06   -1.395957\n",
      "2025-10-07    1.604788\n",
      "2025-10-08   -1.639694\n",
      "2025-10-09    0.252478\n",
      "Freq: D, dtype: float64\n"
     ]
    }
   ],
   "source": [
    "print(\"Date range from 09/09/2025 to 09/10/2025:\\n\",longer_p[datetime(2025,9,9):datetime(2025,10,9)])"
   ]
  },
  {
   "cell_type": "code",
   "execution_count": null,
   "id": "397d4f4b",
   "metadata": {},
   "outputs": [],
   "source": []
  }
 ],
 "metadata": {
  "kernelspec": {
   "display_name": "Python [conda env:base] *",
   "language": "python",
   "name": "conda-base-py"
  },
  "language_info": {
   "codemirror_mode": {
    "name": "ipython",
    "version": 3
   },
   "file_extension": ".py",
   "mimetype": "text/x-python",
   "name": "python",
   "nbconvert_exporter": "python",
   "pygments_lexer": "ipython3",
   "version": "3.12.2"
  }
 },
 "nbformat": 4,
 "nbformat_minor": 5
}
