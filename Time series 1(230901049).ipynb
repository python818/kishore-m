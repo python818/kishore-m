{
 "cells": [
  {
   "cell_type": "code",
   "execution_count": 8,
   "id": "c391e3ca-5991-4925-9584-b4f5c7746b03",
   "metadata": {},
   "outputs": [
    {
     "name": "stdout",
     "output_type": "stream",
     "text": [
      "today_now function: 2025-04-11 10:39:09.177804\n"
     ]
    }
   ],
   "source": [
    "import datetime\n",
    "a=datetime.datetime.now()\n",
    "print(\"today_now function:\",a)"
   ]
  },
  {
   "cell_type": "code",
   "execution_count": 18,
   "id": "8359d930-bf14-42b6-a22b-247624209cd6",
   "metadata": {},
   "outputs": [
    {
     "name": "stdout",
     "output_type": "stream",
     "text": [
      "\n",
      "today: 2025-04-11 10:41:29.755882\n"
     ]
    }
   ],
   "source": [
    "today=datetime.datetime.today()\n",
    "print(\"\\ntoday:\",today)"
   ]
  },
  {
   "cell_type": "code",
   "execution_count": 22,
   "id": "699eeac5-fcf7-4c2f-951c-4b5a51085843",
   "metadata": {},
   "outputs": [
    {
     "name": "stdout",
     "output_type": "stream",
     "text": [
      "\n",
      " tomorrow: 2025-04-14 10:41:29.755882\n"
     ]
    }
   ],
   "source": [
    "tomorrow=today+datetime.timedelta(days=3)\n",
    "print(\"\\n tomorrow:\",tomorrow)"
   ]
  },
  {
   "cell_type": "code",
   "execution_count": 24,
   "id": "eb718e5c-6eaa-404f-9bd3-074cb06f9643",
   "metadata": {},
   "outputs": [
    {
     "name": "stdout",
     "output_type": "stream",
     "text": [
      "\n",
      "yesterday: 2025-04-09 10:41:29.755882\n"
     ]
    }
   ],
   "source": [
    "yesterday=today-datetime.timedelta(days=2)\n",
    "print(\"\\nyesterday:\",yesterday)"
   ]
  },
  {
   "cell_type": "code",
   "execution_count": 26,
   "id": "a3163c2a-ed7a-4ce5-83be-0063e4bee8dd",
   "metadata": {},
   "outputs": [
    {
     "name": "stdout",
     "output_type": "stream",
     "text": [
      "dateformat[2020,6,8,23,10,25,4040]: 2020-06-08 23:10:25.004040\n"
     ]
    }
   ],
   "source": [
    "a=datetime.datetime.now()\n",
    "b=datetime.datetime(2020,6,8,23,10,25,4040)\n",
    "print(\"dateformat[2020,6,8,23,10,25,4040]:\",b)"
   ]
  },
  {
   "cell_type": "code",
   "execution_count": 32,
   "id": "b78901fe-e034-4162-993f-b058919765b2",
   "metadata": {},
   "outputs": [
    {
     "name": "stdout",
     "output_type": "stream",
     "text": [
      "\n",
      "replacing data 2024-12-15\n"
     ]
    }
   ],
   "source": [
    "from datetime import date\n",
    "d=date(2024,12,31)\n",
    "print(\"\\nreplacing data\",d.replace(day=15))"
   ]
  },
  {
   "cell_type": "code",
   "execution_count": 36,
   "id": "f82eac3c-a4ec-423e-b83c-84fdca9e4880",
   "metadata": {},
   "outputs": [
    {
     "name": "stdout",
     "output_type": "stream",
     "text": [
      "\n",
      " Today 2025-04-11\n",
      "\n",
      "current year 2025\n",
      "\n",
      "current month 4\n",
      "\n",
      " current day: 11\n"
     ]
    }
   ],
   "source": [
    "today=date.today()\n",
    "print(\"\\n Today\",today)\n",
    "print(\"\\ncurrent year\",today.year)      \n",
    "print(\"\\ncurrent month\",today.month)\n",
    "print(\"\\n current day:\",today.day)"
   ]
  },
  {
   "cell_type": "code",
   "execution_count": null,
   "id": "34f0826c-2209-46f4-9417-eb9b9e9197ec",
   "metadata": {},
   "outputs": [],
   "source": []
  }
 ],
 "metadata": {
  "kernelspec": {
   "display_name": "Python [conda env:base] *",
   "language": "python",
   "name": "conda-base-py"
  },
  "language_info": {
   "codemirror_mode": {
    "name": "ipython",
    "version": 3
   },
   "file_extension": ".py",
   "mimetype": "text/x-python",
   "name": "python",
   "nbconvert_exporter": "python",
   "pygments_lexer": "ipython3",
   "version": "3.12.2"
  }
 },
 "nbformat": 4,
 "nbformat_minor": 5
}
