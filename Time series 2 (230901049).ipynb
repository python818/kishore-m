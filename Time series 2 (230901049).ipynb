{
 "cells": [
  {
   "cell_type": "code",
   "execution_count": 4,
   "id": "b85b37ad-e001-4d29-913e-4c6421f73e9f",
   "metadata": {},
   "outputs": [
    {
     "name": "stdout",
     "output_type": "stream",
     "text": [
      "2025-04-11 11:06:58.802211\n"
     ]
    }
   ],
   "source": [
    "import datetime\n",
    "cd=datetime.datetime.now()\n",
    "print(cd)res=cd.strftime(&quot;%y&quot;)\n",
    "print(&quot;\\nTwo-digit year:&quot;, res)"
   ]
  },
  {
   "cell_type": "code",
   "execution_count": 6,
   "id": "22622b04-a896-4aa7-a43c-a0669135850c",
   "metadata": {},
   "outputs": [
    {
     "name": "stdout",
     "output_type": "stream",
     "text": [
      "\n",
      "Two-digit year 25\n"
     ]
    }
   ],
   "source": [
    "res=cd.strftime(\"%y\")\n",
    "print( \"\\nTwo-digit year\", res)"
   ]
  },
  {
   "cell_type": "code",
   "execution_count": 12,
   "id": "83fba418-0747-4bf4-8503-344e2d0eb0b9",
   "metadata": {},
   "outputs": [
    {
     "name": "stdout",
     "output_type": "stream",
     "text": [
      "\n",
      "four-digit year: 25\n"
     ]
    }
   ],
   "source": [
    "res1=cd.strftime(\"%y\")\n",
    "print(\"\\nfour-digit year:\", res1)"
   ]
  },
  {
   "cell_type": "code",
   "execution_count": 14,
   "id": "eb57ec6d-5382-488c-bed8-0d0948f1a166",
   "metadata": {},
   "outputs": [
    {
     "name": "stdout",
     "output_type": "stream",
     "text": [
      "\n",
      "Two-digit month [01, 12]: 04\n"
     ]
    }
   ],
   "source": [
    "res=cd.strftime(\"%m\")\n",
    "print( \"\\nTwo-digit month [01, 12]:\",res)"
   ]
  },
  {
   "cell_type": "code",
   "execution_count": 16,
   "id": "b443576a-9030-4445-909c-2b07bfd908dc",
   "metadata": {},
   "outputs": [
    {
     "name": "stdout",
     "output_type": "stream",
     "text": [
      "\n",
      "Short version of month: Apr\n"
     ]
    }
   ],
   "source": [
    "res=cd.strftime(\"%b\")\n",
    "print( \"\\nShort version of month:\", res)"
   ]
  },
  {
   "cell_type": "code",
   "execution_count": 28,
   "id": "47f91a9f-6154-4470-aa87-be5ab98c93ca",
   "metadata": {},
   "outputs": [
    {
     "name": "stdout",
     "output_type": "stream",
     "text": [
      "\n",
      "Two-digit day [01, 31]:  11\n"
     ]
    }
   ],
   "source": [
    " res=cd.strftime( \"%d\")\n",
    "print( \"\\nTwo-digit day [01, 31]: \", res)\n",
    "  \n",
    " "
   ]
  },
  {
   "cell_type": "code",
   "execution_count": 20,
   "id": "9218422f-1299-4d11-b684-1e1a58b168e7",
   "metadata": {},
   "outputs": [
    {
     "name": "stdout",
     "output_type": "stream",
     "text": [
      "\n",
      "Full name of month  April \n"
     ]
    }
   ],
   "source": [
    "res=cd.strftime( \"%B \")\n",
    "print( \"\\nFull name of month \" ,res)"
   ]
  },
  {
   "cell_type": "code",
   "execution_count": 22,
   "id": "173926ad-0257-4a01-beb7-5be46561d9fa",
   "metadata": {},
   "outputs": [
    {
     "name": "stdout",
     "output_type": "stream",
     "text": [
      "\n",
      "Days of the year: 101\n"
     ]
    }
   ],
   "source": [
    "\n",
    "res=cd.strftime(\"%j\")\n",
    "print(\"\\nDays of the year:\",res)"
   ]
  },
  {
   "cell_type": "code",
   "execution_count": 26,
   "id": "dc9980bd-1599-4868-8f59-94ceea43479b",
   "metadata": {},
   "outputs": [
    {
     "name": "stdout",
     "output_type": "stream",
     "text": [
      "\n",
      "Shortcut for %m/%d/%y (e.g., 04/18/12):  04/11/25\n"
     ]
    }
   ],
   "source": [
    "res=cd.strftime('%D')\n",
    "print( '\\nShortcut for %m/%d/%y (e.g., 04/18/12): ', res)"
   ]
  },
  {
   "cell_type": "code",
   "execution_count": 30,
   "id": "6c220326-14dc-4c59-8b60-f1de7bd0cc10",
   "metadata": {},
   "outputs": [
    {
     "name": "stdout",
     "output_type": "stream",
     "text": [
      "\n",
      "Short version of day Fri\n"
     ]
    }
   ],
   "source": [
    "res=cd.strftime(\"%a\")\n",
    "print('\\nShort version of day', res)"
   ]
  },
  {
   "cell_type": "code",
   "execution_count": 62,
   "id": "bc63c795-aa32-4eb1-ab72-232c652a6b4b",
   "metadata": {},
   "outputs": [
    {
     "name": "stdout",
     "output_type": "stream",
     "text": [
      "\n",
      "Two-digit minute [00, 59]:  06 \n"
     ]
    }
   ],
   "source": [
    " \n",
    "res=cd.strftime( \"%M \")\n",
    "print( \"\\nTwo-digit minute [00, 59]: \", res)\n",
    " "
   ]
  },
  {
   "cell_type": "code",
   "execution_count": 32,
   "id": "5112d18a-e5f2-492e-8a38-8e146578d9f0",
   "metadata": {},
   "outputs": [
    {
     "name": "stdout",
     "output_type": "stream",
     "text": [
      "\n",
      "Full name of a day:  Friday\n"
     ]
    }
   ],
   "source": [
    " \n",
    "res=cd.strftime( \"%A\" )\n",
    "print( '\\nFull name of a day: ', res)"
   ]
  },
  {
   "cell_type": "code",
   "execution_count": 36,
   "id": "a540ce20-4f99-456b-a09d-def60be8dd50",
   "metadata": {},
   "outputs": [
    {
     "name": "stdout",
     "output_type": "stream",
     "text": [
      "\n",
      "Hour (24-hour clock) [00, 23]: 11\n"
     ]
    }
   ],
   "source": [
    "\n",
    "res=cd.strftime(\"%H\")\n",
    "print( \"\\nHour (24-hour clock) [00, 23]:\",res)"
   ]
  },
  {
   "cell_type": "code",
   "execution_count": 42,
   "id": "48436062-ed54-4fae-9546-4c18a69d0d9d",
   "metadata": {},
   "outputs": [
    {
     "name": "stdout",
     "output_type": "stream",
     "text": [
      "\n",
      "Hour (12-hour clock) [01, 12]  11\n"
     ]
    }
   ],
   "source": [
    " \n",
    "res=cd.strftime( \"%I\")\n",
    "print( \"\\nHour (12-hour clock) [01, 12] \",res)"
   ]
  },
  {
   "cell_type": "code",
   "execution_count": 46,
   "id": "34e9c472-1e44-44cb-856d-84a68b641bc0",
   "metadata": {},
   "outputs": [
    {
     "name": "stdout",
     "output_type": "stream",
     "text": [
      "\n",
      "Locale-appropriate time (e.g., 04:24:12 PM): 11:06:58\n"
     ]
    }
   ],
   "source": [
    "res=cd.strftime( \"%X\")\n",
    "print( \"\\nLocale-appropriate time (e.g., 04:24:12 PM):\",res)"
   ]
  },
  {
   "cell_type": "code",
   "execution_count": 54,
   "id": "d41d5a98-85be-4da9-a6e0-cd6d4d1f205c",
   "metadata": {},
   "outputs": [
    {
     "name": "stdout",
     "output_type": "stream",
     "text": [
      "\n",
      "Locale-appropriate formatted date (eg, in the United States, May 1, 2012 yields 05/01/2012) 04/11/25\n"
     ]
    }
   ],
   "source": [
    " \n",
    "res=cd.strftime( \"%x\")\n",
    "print( \"\\nLocale-appropriate formatted date (eg, in the United States, May 1, 2012 yields 05/01/2012)\", res)"
   ]
  },
  {
   "cell_type": "code",
   "execution_count": 56,
   "id": "96851dce-36c6-41fc-a2bb-7a6ad2feb802",
   "metadata": {},
   "outputs": [
    {
     "name": "stdout",
     "output_type": "stream",
     "text": [
      "\n",
      "Microsecond as an integer, zero-padded (from 000000 to 999999): 802211\n"
     ]
    }
   ],
   "source": [
    "res=cd.strftime( \"%f\")\n",
    "print (\"\\nMicrosecond as an integer, zero-padded (from 000000 to 999999):\" ,res)"
   ]
  },
  {
   "cell_type": "code",
   "execution_count": 58,
   "id": "53214bac-9997-482e-b37e-b051680e5ce3",
   "metadata": {},
   "outputs": [
    {
     "name": "stdout",
     "output_type": "stream",
     "text": [
      "\n",
      "Shortcut for %Y-%m-%d (eg, 2012-4-18):  2025-04-11\n"
     ]
    }
   ],
   "source": [
    "res=cd.strftime(\"%F\")\n",
    "print( \"\\nShortcut for %Y-%m-%d (eg, 2012-4-18): \",res)"
   ]
  },
  {
   "cell_type": "code",
   "execution_count": 60,
   "id": "9f60d854-2b54-4162-9a00-dcb0f75feab7",
   "metadata": {},
   "outputs": [
    {
     "name": "stdout",
     "output_type": "stream",
     "text": [
      "\n",
      "Second (00, 61] (seconds 60, 61 account for leap seconds): 58\n"
     ]
    }
   ],
   "source": [
    "res=cd.strftime(\"%S\")\n",
    "print(\"\\nSecond (00, 61] (seconds 60, 61 account for leap seconds):\",res)"
   ]
  }
 ],
 "metadata": {
  "kernelspec": {
   "display_name": "Python [conda env:base] *",
   "language": "python",
   "name": "conda-base-py"
  },
  "language_info": {
   "codemirror_mode": {
    "name": "ipython",
    "version": 3
   },
   "file_extension": ".py",
   "mimetype": "text/x-python",
   "name": "python",
   "nbconvert_exporter": "python",
   "pygments_lexer": "ipython3",
   "version": "3.12.2"
  }
 },
 "nbformat": 4,
 "nbformat_minor": 5
}
