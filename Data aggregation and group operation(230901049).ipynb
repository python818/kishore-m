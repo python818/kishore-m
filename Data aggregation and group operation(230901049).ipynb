{
 "cells": [
  {
   "cell_type": "code",
   "execution_count": 50,
   "id": "7ba12338-e77a-4100-b5f6-6d07737dbf3f",
   "metadata": {},
   "outputs": [
    {
     "name": "stdout",
     "output_type": "stream",
     "text": [
      "         A      B  C  D\n",
      "0      abi    one  3  1\n",
      "1     babu    two  0  6\n",
      "2  charles  three  1  3\n",
      "3   darwin    one  0  1\n",
      "4      abi    two  6  3\n",
      "5  charles  three  6  6\n",
      "6   darwin    one  0  2\n"
     ]
    }
   ],
   "source": [
    "import pandas as pd\n",
    "import numpy as np\n",
    "df=pd.DataFrame({'A':['abi','babu','charles','darwin','abi','charles','darwin' ],'B':['one','two','three','one','two','three','one'],'C':np.random.randint(7,size=7),'D':np.random.randint(7,size=7)})\n",
    "print(df)"
   ]
  },
  {
   "cell_type": "code",
   "execution_count": 40,
   "id": "2e2641d4-8cb1-44b2-a43b-e3bb2bc6d544",
   "metadata": {},
   "outputs": [
    {
     "name": "stdout",
     "output_type": "stream",
     "text": [
      "\n",
      " originial data frame\n",
      "          A      B  C  D\n",
      "0      abi    one  2  5\n",
      "1     babu    two  2  2\n",
      "2  charles  three  3  2\n",
      "3   darwin    one  1  0\n",
      "4      abi    two  1  0\n",
      "5  charles  three  1  3\n",
      "6   darwin    one  1  4\n",
      "\n",
      "grouped data framewith one column sum\n",
      "          A  C\n",
      "0      abi  3\n",
      "1     babu  2\n",
      "2  charles  4\n",
      "3   darwin  2\n"
     ]
    }
   ],
   "source": [
    "df1=df.groupby(['A'],as_index=False)['C'].sum()\n",
    "print(\"\\n originial data frame\\n\",df)\n",
    "print(\"\\ngrouped data framewith one column sum\\n\",df1)"
   ]
  },
  {
   "cell_type": "code",
   "execution_count": 74,
   "id": "3403dba5-cb5b-42cc-8992-03fa2bdad730",
   "metadata": {},
   "outputs": [
    {
     "name": "stdout",
     "output_type": "stream",
     "text": [
      "\n",
      " Multiple column sum\n",
      "          A      B  C\n",
      "0      abi    one  3\n",
      "1      abi    two  6\n",
      "2     babu    two  0\n",
      "3  charles  three  7\n",
      "4   darwin    one  0\n",
      "\n",
      " group column sum\n",
      "          A      B  C  D\n",
      "0      abi    one  3  1\n",
      "1      abi    two  6  3\n",
      "2     babu    two  0  6\n",
      "3  charles  three  7  9\n",
      "4   darwin    one  0  3\n"
     ]
    }
   ],
   "source": [
    "df2=df.groupby(['A','B'],as_index=False)['C'].sum()\n",
    "df3=df.groupby(['A','B'],as_index=False)[['C','D']].sum()\n",
    "print(\"\\n Multiple column sum\\n\",df2)\n",
    "print(\"\\n group column sum\\n\",df3)"
   ]
  },
  {
   "cell_type": "code",
   "execution_count": 78,
   "id": "3e6c2f64-f0d1-4e90-a036-a4b98d30fd79",
   "metadata": {},
   "outputs": [
    {
     "name": "stdout",
     "output_type": "stream",
     "text": [
      "  Category  Sales  Profit\n",
      "0        A    100      10\n",
      "1        B    200      15\n",
      "2        C    150      20\n",
      "3        A    150      25\n",
      "4        B    130      30\n",
      "5        C    200      15\n",
      "         Sales        Profit    \n",
      "           sum   mean    sum max\n",
      "Category                        \n",
      "A          250  125.0     35  25\n",
      "B          330  165.0     45  30\n",
      "C          350  175.0     35  20\n"
     ]
    }
   ],
   "source": [
    "import pandas as pd\n",
    "df=pd.DataFrame({'Category':['A','B','C','A','B','C'],'Sales':[100,200,150,150,130,200],'Profit':[10,15,20,25,30,15]})\n",
    "print(df)\n",
    "df1=df.groupby('Category').agg({'Sales':['sum','mean'],'Profit':['sum','max']})\n",
    "print(df1)"
   ]
  },
  {
   "cell_type": "code",
   "execution_count": null,
   "id": "5f331009-afc6-406e-a1d1-c1c7d472d1d9",
   "metadata": {},
   "outputs": [],
   "source": []
  }
 ],
 "metadata": {
  "kernelspec": {
   "display_name": "Python [conda env:base] *",
   "language": "python",
   "name": "conda-base-py"
  },
  "language_info": {
   "codemirror_mode": {
    "name": "ipython",
    "version": 3
   },
   "file_extension": ".py",
   "mimetype": "text/x-python",
   "name": "python",
   "nbconvert_exporter": "python",
   "pygments_lexer": "ipython3",
   "version": "3.12.2"
  }
 },
 "nbformat": 4,
 "nbformat_minor": 5
}
