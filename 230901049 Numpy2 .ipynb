{
 "cells": [
  {
   "cell_type": "markdown",
   "id": "1a1eeab5-c498-466c-b2b0-4cb09eba1d43",
   "metadata": {},
   "source": [
    "### Different form of slicing"
   ]
  },
  {
   "cell_type": "code",
   "execution_count": 6,
   "id": "a84cc6ed-a2ba-4c99-9ff6-d7ee80a96a6a",
   "metadata": {},
   "outputs": [
    {
     "name": "stdout",
     "output_type": "stream",
     "text": [
      "[3 4 5 6]\n",
      "[1 3 5 7 9]\n",
      "[9 6 3]\n"
     ]
    }
   ],
   "source": [
    "import numpy as np;\n",
    "arr=np.array([1,2,3,4,5,6,7,8,9])\n",
    "slice1=arr[2:6]\n",
    "print(slice1)\n",
    "slice2=arr[::2]\n",
    "print(slice2)\n",
    "slice3=arr[::-3]\n",
    "print(slice3)"
   ]
  },
  {
   "cell_type": "markdown",
   "id": "a99fdd8b-6d4c-45e7-ba0c-b298983df108",
   "metadata": {},
   "source": [
    "## Slicing multidimensional array"
   ]
  },
  {
   "cell_type": "code",
   "execution_count": 7,
   "id": "98edd554-9211-4c6c-adea-8e0e27001617",
   "metadata": {},
   "outputs": [
    {
     "name": "stdout",
     "output_type": "stream",
     "text": [
      "[[2 3 4]\n",
      " [4 4 5]]\n"
     ]
    }
   ],
   "source": [
    "import numpy as np;\n",
    "arr=np.array([[2,3,4],[4,4,5]])\n",
    "string=arr[0:2,:3]\n",
    "print(string)"
   ]
  },
  {
   "cell_type": "markdown",
   "id": "94a3055b-090d-40d0-a045-48992843b44b",
   "metadata": {},
   "source": [
    "#### Extracting"
   ]
  },
  {
   "cell_type": "code",
   "execution_count": 8,
   "id": "b29815b5-5f5c-4f35-9d4a-daf6b6c724b0",
   "metadata": {},
   "outputs": [
    {
     "name": "stdout",
     "output_type": "stream",
     "text": [
      "[2 4]\n",
      "[2 3 4]\n",
      "[[2 3 4]\n",
      " [4 4 5]]\n"
     ]
    }
   ],
   "source": [
    "col1=arr[:,0]\n",
    "print(col1)\n",
    "row1=arr[0,:]\n",
    "print(row1)\n",
    "col3=arr[0:2:1]\n",
    "print(col3)"
   ]
  },
  {
   "cell_type": "markdown",
   "id": "8bead999-aec2-49dc-98c4-d9cf888145a5",
   "metadata": {},
   "source": [
    "##### Array indexing"
   ]
  },
  {
   "cell_type": "code",
   "execution_count": 9,
   "id": "53c28953-54df-422d-8b44-96acba8fc102",
   "metadata": {},
   "outputs": [
    {
     "name": "stdout",
     "output_type": "stream",
     "text": [
      "10\n"
     ]
    }
   ],
   "source": [
    "import numpy as np;\n",
    "arr=np.array([[10,20,30,40],[50,60,70,80]])\n",
    "print(arr[0,0])"
   ]
  },
  {
   "cell_type": "code",
   "execution_count": 10,
   "id": "a3dbf5fe-d37c-4b58-915e-b0fcfca7ce50",
   "metadata": {},
   "outputs": [
    {
     "name": "stdout",
     "output_type": "stream",
     "text": [
      "10\n"
     ]
    }
   ],
   "source": [
    "import numpy as np;\n",
    "arr=np.array([10,20,30,40])   #basic indexing\n",
    "print(arr[0])"
   ]
  },
  {
   "cell_type": "code",
   "execution_count": 11,
   "id": "ac414155-28b3-430b-bb6b-7e49e0e0a02c",
   "metadata": {},
   "outputs": [
    {
     "name": "stdout",
     "output_type": "stream",
     "text": [
      "40\n"
     ]
    }
   ],
   "source": [
    "import numpy as np;\n",
    "arr=np.array([10,20,30,40])    #negative inndexing\n",
    "print(arr[-1])\n"
   ]
  },
  {
   "cell_type": "code",
   "execution_count": 12,
   "id": "dd6e335e-bdf2-4440-9a01-667f8f152767",
   "metadata": {},
   "outputs": [
    {
     "name": "stdout",
     "output_type": "stream",
     "text": [
      "[20 30]\n"
     ]
    }
   ],
   "source": [
    "import numpy as np;\n",
    "s=np.array([[4,5,4],[3,2,1]])   #slicing indexing\n",
    "print(arr[1:3])"
   ]
  },
  {
   "cell_type": "code",
   "execution_count": 13,
   "id": "f13ae827-34d2-4df2-a682-0ea4aa9789eb",
   "metadata": {},
   "outputs": [
    {
     "name": "stdout",
     "output_type": "stream",
     "text": [
      "[30 40 50]\n"
     ]
    }
   ],
   "source": [
    "import numpy as np;\n",
    "a=np.array([10,20,30,40,50])     #boolean indexing\n",
    "f=a>25\n",
    "g=a[f]\n",
    "print(g)"
   ]
  },
  {
   "cell_type": "markdown",
   "id": "30f88722-f432-4cef-8afb-f0d5f75578a3",
   "metadata": {},
   "source": [
    "##### JOINIING"
   ]
  },
  {
   "cell_type": "code",
   "execution_count": 14,
   "id": "41192378-e333-4244-a47f-303e8ccca5c2",
   "metadata": {},
   "outputs": [
    {
     "name": "stdout",
     "output_type": "stream",
     "text": [
      "[[1 2 5 6]\n",
      " [3 4 7 8]]\n"
     ]
    }
   ],
   "source": [
    "import numpy as np;\n",
    "arr1=np.array([[1,2],[3,4]])\n",
    "arr2=np.array([[5,6],[7,8]])   #horizontal joining\n",
    "result=np.hstack((arr1,arr2))\n",
    "print(result)"
   ]
  },
  {
   "cell_type": "code",
   "execution_count": 15,
   "id": "1eca4022-ab58-4f68-ac2c-eb591ad0f088",
   "metadata": {},
   "outputs": [
    {
     "name": "stdout",
     "output_type": "stream",
     "text": [
      "[[1 2]\n",
      " [3 4]\n",
      " [5 6]\n",
      " [7 8]]\n"
     ]
    }
   ],
   "source": [
    "result=np.vstack((arr1,arr2))  #vertical joining\n",
    "print(result)"
   ]
  },
  {
   "cell_type": "code",
   "execution_count": 16,
   "id": "d1168a15-e631-423d-8d85-5fe640bbd7ee",
   "metadata": {},
   "outputs": [
    {
     "name": "stdout",
     "output_type": "stream",
     "text": [
      "[[[1 5]\n",
      "  [2 6]]\n",
      "\n",
      " [[3 7]\n",
      "  [4 8]]]\n"
     ]
    }
   ],
   "source": [
    "result=np.dstack((arr1,arr2))  #depth joining\n",
    "print(result)"
   ]
  },
  {
   "cell_type": "markdown",
   "id": "66ac9209-20c7-4200-9d33-cfa7c42da2fc",
   "metadata": {},
   "source": [
    "##### ARRAY SPLITTING"
   ]
  },
  {
   "cell_type": "code",
   "execution_count": 17,
   "id": "09065bf7-f541-4dab-ba56-10e5ef72c2f4",
   "metadata": {},
   "outputs": [
    {
     "name": "stdout",
     "output_type": "stream",
     "text": [
      "[array([1, 2]), array([3, 4]), array([5, 5])]\n"
     ]
    }
   ],
   "source": [
    "import numpy as np;\n",
    "arr1=np.array([1,2,3,4,5,5])\n",
    "result=np.split(arr1,3)\n",
    "print(result)"
   ]
  }
 ],
 "metadata": {
  "kernelspec": {
   "display_name": "Python 3 (ipykernel)",
   "language": "python",
   "name": "python3"
  },
  "language_info": {
   "codemirror_mode": {
    "name": "ipython",
    "version": 3
   },
   "file_extension": ".py",
   "mimetype": "text/x-python",
   "name": "python",
   "nbconvert_exporter": "python",
   "pygments_lexer": "ipython3",
   "version": "3.13.0"
  }
 },
 "nbformat": 4,
 "nbformat_minor": 5
}
