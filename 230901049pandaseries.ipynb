{
 "cells": [
  {
   "cell_type": "code",
   "execution_count": 38,
   "id": "6a68a625-4faf-41d1-866f-732cd413d5d5",
   "metadata": {},
   "outputs": [
    {
     "name": "stdout",
     "output_type": "stream",
     "text": [
      "0    k\n",
      "1    i\n",
      "2    s\n",
      "3    h\n",
      "4    o\n",
      "5    r\n",
      "6    e\n",
      "dtype: string\n"
     ]
    }
   ],
   "source": [
    "import pandas as pd\n",
    "import pandas as np\n",
    "arr=np.array(['k','i','s','h','o','r','e'])\n",
    "a=pd.Series(arr)\n",
    "print(a)"
   ]
  },
  {
   "cell_type": "code",
   "execution_count": 13,
   "id": "1e2892a9-6ac3-45e5-afa9-440b269b65f0",
   "metadata": {},
   "outputs": [
    {
     "name": "stdout",
     "output_type": "stream",
     "text": [
      "a    0\n",
      "b    1\n",
      "c    2\n",
      "dtype: int64\n"
     ]
    }
   ],
   "source": [
    "import pandas as pd\n",
    "import pandas as np\n",
    "arr={'a':0,'b':1,'c':2}\n",
    "a=pd.Series(arr)\n",
    "print(a)"
   ]
  },
  {
   "cell_type": "code",
   "execution_count": 29,
   "id": "1b7f2065-9bb9-42ad-80dc-5a5cbe222880",
   "metadata": {},
   "outputs": [
    {
     "name": "stdout",
     "output_type": "stream",
     "text": [
      "0    4\n",
      "1    4\n",
      "2    4\n",
      "3    4\n",
      "dtype: object\n"
     ]
    }
   ],
   "source": [
    "import pandas as pd\n",
    "import pandas as np\n",
    "scalar=pd.Series('4',index=[0,1,2,3])\n",
    "print(scalar)"
   ]
  },
  {
   "cell_type": "code",
   "execution_count": 40,
   "id": "a09e2e00-0995-4e7d-9329-4bb582295699",
   "metadata": {},
   "outputs": [
    {
     "name": "stdout",
     "output_type": "stream",
     "text": [
      "\n",
      " Series:\n",
      " 0    k\n",
      "1    i\n",
      "2    s\n",
      "3    h\n",
      "4    o\n",
      "5    r\n",
      "6    e\n",
      "dtype: string\n",
      "\n",
      " index:\n",
      " RangeIndex(start=0, stop=7, step=1)\n",
      "\n",
      " values:\n",
      " <StringArray>\n",
      "['k', 'i', 's', 'h', 'o', 'r', 'e']\n",
      "Length: 7, dtype: string\n",
      "\n",
      " Shape:\n",
      " (7,)\n",
      "\n",
      " Dimension:\n",
      " 1\n",
      "\n",
      " Size:\n",
      " 7\n"
     ]
    }
   ],
   "source": [
    "import pandas as pd\n",
    "import pandas as np\n",
    "print(\"\\n Series:\\n\",a)\n",
    "print(\"\\n index:\\n\",a.index)\n",
    "print(\"\\n values:\\n\",a.values)\n",
    "print(\"\\n Shape:\\n\",a.shape)\n",
    "print(\"\\n Dimension:\\n\",a.ndim)\n",
    "print(\"\\n Size:\\n\",a.size)"
   ]
  },
  {
   "cell_type": "code",
   "execution_count": null,
   "id": "1b77635f-70d4-4bae-a33b-517ff7b543cf",
   "metadata": {},
   "outputs": [],
   "source": []
  },
  {
   "cell_type": "code",
   "execution_count": null,
   "id": "2b890442-3949-49df-b75d-b2b40d2ee900",
   "metadata": {},
   "outputs": [],
   "source": []
  }
 ],
 "metadata": {
  "kernelspec": {
   "display_name": "Python [conda env:base] *",
   "language": "python",
   "name": "conda-base-py"
  },
  "language_info": {
   "codemirror_mode": {
    "name": "ipython",
    "version": 3
   },
   "file_extension": ".py",
   "mimetype": "text/x-python",
   "name": "python",
   "nbconvert_exporter": "python",
   "pygments_lexer": "ipython3",
   "version": "3.12.7"
  }
 },
 "nbformat": 4,
 "nbformat_minor": 5
}
