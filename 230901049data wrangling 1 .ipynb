{
 "cells": [
  {
   "cell_type": "code",
   "execution_count": 5,
   "id": "19695ee4-e263-4592-ae0b-427713ac8f21",
   "metadata": {},
   "outputs": [
    {
     "name": "stdout",
     "output_type": "stream",
     "text": [
      "{'name': ['sai', 'suba', 'poo'], 'age': [20, 21, 22]}\n",
      "{'qualified': [True, True, False]}\n"
     ]
    }
   ],
   "source": [
    "import pandas as pd\n",
    "d1={\"name\":[\"sai\",\"suba\",\"poo\"],\n",
    "   \"age\":[20,21,22]}\n",
    "\n",
    "d2={\"qualified\":[True,True,False]}\n",
    "print(d1)\n",
    "print(d2)"
   ]
  },
  {
   "cell_type": "code",
   "execution_count": 15,
   "id": "4ab6c7c5-5c49-4b1c-a1f3-9f6322e3fe2f",
   "metadata": {},
   "outputs": [
    {
     "name": "stdout",
     "output_type": "stream",
     "text": [
      "   name  age\n",
      "0   sai   20\n",
      "1  suba   21\n",
      "2   poo   22\n",
      "   qualified\n",
      "0       True\n",
      "1       True\n",
      "2      False\n",
      "   name  age  qualified\n",
      "0   sai   20       True\n",
      "1  suba   21       True\n",
      "2   poo   22      False\n"
     ]
    }
   ],
   "source": [
    "import pandas as pd\n",
    "df1=pd.DataFrame(d1)\n",
    "print(df1)\n",
    "df2=pd.DataFrame(d2)\n",
    "print(df2)\n",
    "newdf=df1.join(df2)\n",
    "print(newdf)"
   ]
  },
  {
   "cell_type": "code",
   "execution_count": 27,
   "id": "f46fec85-db11-4609-ba16-a830c1186ea5",
   "metadata": {},
   "outputs": [],
   "source": [
    "import pandas as pd\n",
    "d1={\"name\":[\"peter\",\"leo\",\"jailer\"],\n",
    "   \"age\":[20,21,22]}\n",
    "import pandas as pd\n",
    "d2={\"name\":[\"dilli\",\"bad\",\"dass\"],\n",
    "   \"age\":[40,80,100]}\n",
    " "
   ]
  },
  {
   "cell_type": "code",
   "execution_count": 37,
   "id": "9421ad1c-ffe3-497c-ba06-6b29e715667c",
   "metadata": {},
   "outputs": [
    {
     "name": "stdout",
     "output_type": "stream",
     "text": [
      "     name  age\n",
      "0   peter   20\n",
      "1     leo   21\n",
      "2  jailer   22\n",
      "    name  age\n",
      "0  dilli   40\n",
      "1    bad   80\n",
      "2   dass  100\n",
      "    name  age  qualified\n",
      "0  dilli   20       True\n",
      "1    bad   21       True\n",
      "2   dass   22      False\n",
      "   name_x  age name_y\n",
      "0   peter   20    NaN\n",
      "1     leo   21    NaN\n",
      "2  jailer   22    NaN\n"
     ]
    }
   ],
   "source": [
    "import pandas as pd\n",
    "df1=pd.DataFrame(d1)\n",
    "print(df1)\n",
    "df2=pd.DataFrame(d2)\n",
    "print(df2)\n",
    "newdf1=(df2.merge(df1,on=\"age\",how=\"right\"))\n",
    "print(newdf)\n",
    "newdf2=(df1.merge(df2,on=\"age\",how=\"left\"))\n",
    "print(newdf2)"
   ]
  },
  {
   "cell_type": "code",
   "execution_count": 37,
   "id": "a9ddd705-9a76-42a7-aa1f-2cff3b4feb2c",
   "metadata": {},
   "outputs": [
    {
     "name": "stdout",
     "output_type": "stream",
     "text": [
      "  team  points  assists  rebounds\n",
      "0    A      90       12        56\n",
      "1    B      56       34        43\n",
      "2    C      78       23        55\n",
      "3    D      88       44        12\n",
      "   team  variable  value\n",
      "0     A    points     90\n",
      "1     B    points     56\n",
      "2     C    points     78\n",
      "3     D    points     88\n",
      "4     A   assists     12\n",
      "5     B   assists     34\n",
      "6     C   assists     23\n",
      "7     D   assists     44\n",
      "8     A  rebounds     56\n",
      "9     B  rebounds     43\n",
      "10    C  rebounds     55\n",
      "11    D  rebounds     12\n"
     ]
    }
   ],
   "source": [
    " import pandas as pd\n",
    "d1=pd.DataFrame({'team':['A','B','C','D'],'points':[90,56,78,88],'assists':[12,34,23,44],'rebounds':[56,43,55,12]})\n",
    "print(d1)\n",
    "d2=pd.melt(d1,id_vars='team',value_vars=['points','assists','rebounds'])\n",
    "print(d2)"
   ]
  },
  {
   "cell_type": "code",
   "execution_count": null,
   "id": "aaf5c36c-9232-4747-bd7c-434b0e2bbc8a",
   "metadata": {},
   "outputs": [],
   "source": []
  }
 ],
 "metadata": {
  "kernelspec": {
   "display_name": "Python [conda env:base] *",
   "language": "python",
   "name": "conda-base-py"
  },
  "language_info": {
   "codemirror_mode": {
    "name": "ipython",
    "version": 3
   },
   "file_extension": ".py",
   "mimetype": "text/x-python",
   "name": "python",
   "nbconvert_exporter": "python",
   "pygments_lexer": "ipython3",
   "version": "3.12.7"
  }
 },
 "nbformat": 4,
 "nbformat_minor": 5
}
