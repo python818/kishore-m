{
 "cells": [
  {
   "cell_type": "code",
   "execution_count": 2,
   "id": "896b7229-66ff-43ce-a2e8-87b4194a0bd6",
   "metadata": {},
   "outputs": [
    {
     "name": "stdout",
     "output_type": "stream",
     "text": [
      "   S  R\n",
      "0  3  9\n",
      "1  3  9\n",
      "2  3  9\n",
      "3  3  9\n",
      "S    12\n",
      "R    36\n",
      "dtype: int64\n",
      "0    12\n",
      "1    12\n",
      "2    12\n",
      "3    12\n",
      "dtype: int64\n",
      "          S    R\n",
      "0  1.732051  3.0\n",
      "1  1.732051  3.0\n",
      "2  1.732051  3.0\n",
      "3  1.732051  3.0\n"
     ]
    }
   ],
   "source": [
    "import pandas as pd\n",
    "import numpy as np\n",
    "info =pd.DataFrame([[3,9]]*4,columns=['S','R'])\n",
    "print(info)\n",
    "print(info.apply(np.sum,axis=0))\n",
    "print(info.apply(np.sum,axis=1))\n",
    "print(info.apply(np.sqrt))"
   ]
  },
  {
   "cell_type": "code",
   "execution_count": 4,
   "id": "42b5f59a-8bc3-48c7-ac0b-ced6f5cc9e05",
   "metadata": {},
   "outputs": [
    {
     "name": "stdout",
     "output_type": "stream",
     "text": [
      "   X  Y  Z\n",
      "0  2  4  6\n",
      "1  1  3  5\n",
      "2  5  8  7\n",
      "     X  Y  Z\n",
      "min  1  3  5\n",
      "max  5  8  7\n"
     ]
    }
   ],
   "source": [
    "import pandas as pd\n",
    "import numpy as np\n",
    "a=pd.DataFrame([[2,4,6],[1,3,5],[5,8,7]],columns=['X',\"Y\",'Z'])\n",
    "print(a)\n",
    "print(a.agg(['min','max']))"
   ]
  },
  {
   "cell_type": "code",
   "execution_count": 6,
   "id": "e9172773-932c-4fc3-88b8-6d4c8156ecc9",
   "metadata": {},
   "outputs": [
    {
     "name": "stdout",
     "output_type": "stream",
     "text": [
      "     Name  Id\n",
      "0     Sai  88\n",
      "1  Sanjai  70\n",
      "\n",
      "      Name  Id  Age\n",
      "0     Sai  88   20\n",
      "1  Sanjai  70   18\n",
      "\n",
      "      Name  Id  Age   Sex\n",
      "0     Sai  88   20  Male\n",
      "1  Sanjai  70   18  Male\n"
     ]
    }
   ],
   "source": [
    " \n",
    "d2=pd.DataFrame([[\"Sai\",88],[\"Sanjai\",70]],columns=['Name','Id'])\n",
    "print(d2)\n",
    "d2['Age']=[20,18]                 \n",
    "print(\"\\n\",d2)\n",
    "d2[\"Sex\"]=['Male','Male']\n",
    "print(\"\\n\",d2)"
   ]
  },
  {
   "cell_type": "code",
   "execution_count": 8,
   "id": "761699bd-61ed-480f-a399-7c8dab710454",
   "metadata": {},
   "outputs": [
    {
     "name": "stdout",
     "output_type": "stream",
     "text": [
      "     Name  Id  age\n",
      "0     Sai  88   20\n",
      "1  Sanjai  70   18\n"
     ]
    }
   ],
   "source": [
    " d2=pd.DataFrame([[\"Sai\",88],[\"Sanjai\",70]],columns=['Name','Id'])\n",
    "a=d2.assign(age=[20,18])\n",
    "print(a)\n",
    " "
   ]
  },
  {
   "cell_type": "code",
   "execution_count": 10,
   "id": "b953a0a7-83c9-471e-a0ff-5cd1a3fe4017",
   "metadata": {},
   "outputs": [
    {
     "name": "stdout",
     "output_type": "stream",
     "text": [
      "        3rd       4th\n",
      "3  1.693480 -1.239036\n",
      "2  0.296492  0.503541\n",
      "0 -0.740518  0.859214\n",
      "4 -0.514246 -1.226702\n",
      "1  0.629034 -2.340730\n",
      "        3rd       4th\n",
      "0 -0.740518  0.859214\n",
      "1  0.629034 -2.340730\n",
      "2  0.296492  0.503541\n",
      "3  1.693480 -1.239036\n",
      "4 -0.514246 -1.226702\n",
      "        3rd       4th\n",
      "0 -0.740518  0.859214\n",
      "4 -0.514246 -1.226702\n",
      "2  0.296492  0.503541\n",
      "1  0.629034 -2.340730\n",
      "3  1.693480 -1.239036\n"
     ]
    }
   ],
   "source": [
    " \n",
    "import numpy as np\n",
    "import pandas as pd\n",
    "info=pd.DataFrame(np.random.randn(5,2),index=[3,2,0,4,1],columns=[\"3rd\",\"4th\"])\n",
    "print(info)\n",
    "a=info.sort_index()\n",
    "print(a)\n",
    "b=a.sort_values(by='3rd')\n",
    "print(b) \n"
   ]
  },
  {
   "cell_type": "code",
   "execution_count": null,
   "id": "a85d71c7-45e1-4e31-983c-215aeaf49ea5",
   "metadata": {},
   "outputs": [],
   "source": []
  }
 ],
 "metadata": {
  "kernelspec": {
   "display_name": "Python [conda env:base] *",
   "language": "python",
   "name": "conda-base-py"
  },
  "language_info": {
   "codemirror_mode": {
    "name": "ipython",
    "version": 3
   },
   "file_extension": ".py",
   "mimetype": "text/x-python",
   "name": "python",
   "nbconvert_exporter": "python",
   "pygments_lexer": "ipython3",
   "version": "3.12.7"
  }
 },
 "nbformat": 4,
 "nbformat_minor": 5
}
