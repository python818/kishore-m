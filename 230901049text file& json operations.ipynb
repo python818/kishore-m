{
 "cells": [
  {
   "cell_type": "code",
   "execution_count": 18,
   "id": "5484fbe2-5882-4ccf-a8bf-4ac677ad3773",
   "metadata": {},
   "outputs": [],
   "source": [
    "f=open(\"/Users/student/Downloads/data1.txt\",\"w\")\n",
    "f.write(\"sai\\n\")\n",
    "f.write(\"raj\\n\")\n",
    "f.write(\"john\\n\")\n",
    "f.close()"
   ]
  },
  {
   "cell_type": "code",
   "execution_count": 26,
   "id": "5520087a-b26b-4295-9fea-9c162c1e81f8",
   "metadata": {},
   "outputs": [
    {
     "name": "stdout",
     "output_type": "stream",
     "text": [
      "sai\n",
      "\n",
      "raj\n",
      "\n",
      "john\n",
      "\n"
     ]
    }
   ],
   "source": [
    "a=open(\"/Users/student/Downloads/data1.txt\",\"r\")\n",
    "print(a.readline())\n",
    "print(a.readline())\n",
    "print(a.readline())\n",
    "a.close()"
   ]
  },
  {
   "cell_type": "code",
   "execution_count": 30,
   "id": "fbd8feff-9aec-4902-b25c-820129db335a",
   "metadata": {},
   "outputs": [],
   "source": [
    "b=open(\"/Users/student/Downloads/data1.txt\",\"a\")\n",
    "b.write(\"ram\\n\")\n",
    "b.write(\"kumar\\n\")\n",
    "b.close()"
   ]
  },
  {
   "cell_type": "code",
   "execution_count": 7,
   "id": "4e2193b4-53ad-488d-add9-5b67f97dd20a",
   "metadata": {},
   "outputs": [
    {
     "name": "stdout",
     "output_type": "stream",
     "text": [
      "sai\n",
      "raj\n",
      "john\n",
      "ram\n",
      "kumar\n",
      "ram\n",
      "kumar\n",
      "\n"
     ]
    }
   ],
   "source": [
    "c=open(\"/Users/student/Downloads/data1.txt\",\"r\")\n",
    "print(c.read())\n",
    "c.close()"
   ]
  },
  {
   "cell_type": "code",
   "execution_count": 27,
   "id": "3c8258f6-503e-4c8a-bb2d-84c7ad71de82",
   "metadata": {},
   "outputs": [
    {
     "name": "stdout",
     "output_type": "stream",
     "text": [
      "sai\n",
      "\n"
     ]
    }
   ],
   "source": [
    "with open(\"/Users/student/Downloads/data1.txt\",\"r\")  as file:\n",
    "    lines =file.readline()\n",
    "    print(lines)"
   ]
  },
  {
   "cell_type": "code",
   "execution_count": 33,
   "id": "3c204524-4aa9-439f-bd1a-1160f4089274",
   "metadata": {},
   "outputs": [
    {
     "name": "stdout",
     "output_type": "stream",
     "text": [
      "london\n"
     ]
    }
   ],
   "source": [
    "import json\n",
    "x='{\"name\":\"raj\",\"age\":20,\"city\":\"london\"}'\n",
    "y=json.loads(x)\n",
    "print(y[\"city\"])"
   ]
  },
  {
   "cell_type": "code",
   "execution_count": 35,
   "id": "2357d4ca-71c8-4382-bf38-f58d7363edd6",
   "metadata": {},
   "outputs": [
    {
     "name": "stdout",
     "output_type": "stream",
     "text": [
      "\"{\\\"name\\\":\\\"raj\\\",\\\"age\\\":20,\\\"city\\\":\\\"london\\\"}\"\n"
     ]
    }
   ],
   "source": [
    "x='{\"name\":\"raj\",\"age\":20,\"city\":\"london\"}'\n",
    "y=json.dumps(x)\n",
    "print(y)"
   ]
  },
  {
   "cell_type": "code",
   "execution_count": null,
   "id": "ac102ffa-5594-4b12-aae2-7c7a0c8fec20",
   "metadata": {},
   "outputs": [],
   "source": []
  }
 ],
 "metadata": {
  "kernelspec": {
   "display_name": "Python [conda env:base] *",
   "language": "python",
   "name": "conda-base-py"
  },
  "language_info": {
   "codemirror_mode": {
    "name": "ipython",
    "version": 3
   },
   "file_extension": ".py",
   "mimetype": "text/x-python",
   "name": "python",
   "nbconvert_exporter": "python",
   "pygments_lexer": "ipython3",
   "version": "3.12.7"
  }
 },
 "nbformat": 4,
 "nbformat_minor": 5
}
