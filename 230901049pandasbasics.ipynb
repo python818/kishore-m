{
 "cells": [
  {
   "cell_type": "code",
   "execution_count": 2,
   "id": "a2c4baae-6be0-42af-b2cc-eb9f0a6f0864",
   "metadata": {},
   "outputs": [
    {
     "name": "stdout",
     "output_type": "stream",
     "text": [
      "Empty DataFrame\n",
      "Columns: []\n",
      "Index: []\n"
     ]
    }
   ],
   "source": [
    "import pandas as pd\n",
    "df=pd.DataFrame()\n",
    "print(df)"
   ]
  },
  {
   "cell_type": "code",
   "execution_count": 24,
   "id": "50d3f371-60aa-4277-85fd-dff334a93599",
   "metadata": {},
   "outputs": [
    {
     "name": "stdout",
     "output_type": "stream",
     "text": [
      "\n",
      "series to data Frame\n",
      "\n",
      "      emf  id\n",
      "0     uma  10\n",
      "1    siva  20\n",
      "2  sindhu  30\n",
      "3    ravi  40\n"
     ]
    }
   ],
   "source": [
    "emp=pd.Series(['uma','siva','sindhu','ravi'])\n",
    "id=pd.Series([10,20,30,40])\n",
    "frame={'emf':emp,'id':id}\n",
    "result=pd.DataFrame(frame)\n",
    "print(\"\\nseries to data Frame\\n\")\n",
    "print(result)"
   ]
  },
  {
   "cell_type": "code",
   "execution_count": 26,
   "id": "89aec1ef-ddb0-413f-ba4c-e21810ad81ef",
   "metadata": {},
   "outputs": [
    {
     "name": "stdout",
     "output_type": "stream",
     "text": [
      "\n",
      "series to data Frame\n",
      "\n",
      "      emf  id\n",
      "0     uma  10\n",
      "1    siva  20\n",
      "2  sindhu  30\n",
      "3    ravi  40\n"
     ]
    }
   ],
   "source": [
    "emp=pd.Series(['uma','siva','sindhu','ravi'])\n",
    "id=pd.Series([10,20,30,40])\n",
    "frame={'emf':emp,'id':id}\n",
    "result=pd.DataFrame(frame)\n",
    "print(\"\\nseries to data Frame\\n\")\n",
    "result['age']=pd.Series([20,25,30,50])\n",
    "del result[' age']\n",
    "print(result)"
   ]
  },
  {
   "cell_type": "code",
   "execution_count": 28,
   "id": "fbeaf145-8dc4-465d-b659-26f7ba12f0be",
   "metadata": {},
   "outputs": [
    {
     "name": "stdout",
     "output_type": "stream",
     "text": [
      "\n",
      "series to data Frame\n",
      "\n",
      "      emf  id  age\n",
      "0     uma  10   20\n",
      "1    siva  20   25\n",
      "2  sindhu  30   30\n",
      "3    ravi  40   50\n"
     ]
    }
   ],
   "source": [
    "emp=pd.Series(['uma','siva','sindhu','ravi'])\n",
    "id=pd.Series([10,20,30,40])\n",
    "frame={'emf':emp,'id':id}\n",
    "result=pd.DataFrame(frame)\n",
    "print(\"\\nseries to data Frame\\n\")\n",
    "result['age']=pd.Series([20,25,30,50])\n",
    "print(result)"
   ]
  },
  {
   "cell_type": "code",
   "execution_count": 36,
   "id": "d12215fc-f81b-4a92-b8df-7f76bd3a3b90",
   "metadata": {},
   "outputs": [
    {
     "name": "stdout",
     "output_type": "stream",
     "text": [
      "\n",
      "extracting one column\n",
      "\n",
      "0       uma\n",
      "1      siva\n",
      "2    sindhu\n",
      "3      ravi\n",
      "Name: emp, dtype: object\n"
     ]
    }
   ],
   "source": [
    "emp=pd.Series(['uma','siva','sindhu','ravi'])\n",
    "id=pd.Series([10,20,30,40])\n",
    "frame={'emp':emp,'id':id}\n",
    "result=pd.DataFrame(frame)\n",
    "print(\"\\nextracting one column\\n\")\n",
    "print(result['emp'])"
   ]
  },
  {
   "cell_type": "code",
   "execution_count": 38,
   "id": "ee85272b-1bb1-4e00-9efb-c51e8e86b477",
   "metadata": {},
   "outputs": [
    {
     "name": "stdout",
     "output_type": "stream",
     "text": [
      "slice row:\n",
      "       emp  id\n",
      "1    siva  20\n",
      "2  sindhu  30\n"
     ]
    }
   ],
   "source": [
    "print(\"slice row:\\n\",result[1:3])"
   ]
  },
  {
   "cell_type": "code",
   "execution_count": 40,
   "id": "5dd149fd-a2c1-46c7-8a4a-c1e1320fb48f",
   "metadata": {},
   "outputs": [
    {
     "name": "stdout",
     "output_type": "stream",
     "text": [
      "    emp  id\n",
      "0   uma  10\n",
      "1  siva  20\n",
      "3  ravi  40\n"
     ]
    }
   ],
   "source": [
    "print(result.drop(2))"
   ]
  },
  {
   "cell_type": "code",
   "execution_count": 42,
   "id": "a6488760-96d9-4e38-85ef-dfc2fdab2123",
   "metadata": {},
   "outputs": [
    {
     "name": "stdout",
     "output_type": "stream",
     "text": [
      "\n",
      " extracting row :\n",
      " emp    siva\n",
      "id       20\n",
      "Name: 1, dtype: object\n"
     ]
    }
   ],
   "source": [
    "print(\"\\n extracting row :\\n\",result.loc[1])"
   ]
  },
  {
   "cell_type": "code",
   "execution_count": 44,
   "id": "06060693-2e77-4b91-aac3-7df3b9f6b4c8",
   "metadata": {},
   "outputs": [
    {
     "name": "stdout",
     "output_type": "stream",
     "text": [
      "      emp  id\n",
      "0     uma  10\n",
      "1    siva  20\n",
      "2  sindhu  30\n",
      "3    ravi  40\n",
      "0     anu  20\n",
      "1    jinu  19\n"
     ]
    }
   ],
   "source": [
    "d2=pd.DataFrame([['anu',20],['jinu',19]],columns=['emp','id'])\n",
    "print(pd.concat([result,d2]))"
   ]
  },
  {
   "cell_type": "code",
   "execution_count": null,
   "id": "9a4a8bae-56c0-4d07-b6a5-ed435f51578a",
   "metadata": {},
   "outputs": [],
   "source": []
  }
 ],
 "metadata": {
  "kernelspec": {
   "display_name": "Python [conda env:base] *",
   "language": "python",
   "name": "conda-base-py"
  },
  "language_info": {
   "codemirror_mode": {
    "name": "ipython",
    "version": 3
   },
   "file_extension": ".py",
   "mimetype": "text/x-python",
   "name": "python",
   "nbconvert_exporter": "python",
   "pygments_lexer": "ipython3",
   "version": "3.12.7"
  }
 },
 "nbformat": 4,
 "nbformat_minor": 5
}
