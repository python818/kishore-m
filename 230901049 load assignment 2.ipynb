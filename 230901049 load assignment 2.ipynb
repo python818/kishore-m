{
 "cells": [
  {
   "cell_type": "code",
   "execution_count": 26,
   "id": "452a478a-885f-41cb-a2bb-fc266fc8d920",
   "metadata": {},
   "outputs": [
    {
     "name": "stdout",
     "output_type": "stream",
     "text": [
      "    Emp ID Name Prefix First Name Middle Initial Last Name Gender  \\\n",
      "0   677509        Drs.       Lois              H    Walker      F   \n",
      "1   940761         Ms.     Brenda              S  Robinson      F   \n",
      "2   428945         Dr.        Joe              W  Robinson      M   \n",
      "3   408351        Drs.      Diane              I     Evans      F   \n",
      "4   193819         Mr.   Benjamin              R   Russell      M   \n",
      "..     ...         ...        ...            ...       ...    ...   \n",
      "95  639892         Mr.       Jose              K      Hill      M   \n",
      "96  704709         Dr.     Harold              Z    Nelson      M   \n",
      "97  461593         Ms.     Nicole              O      Ward      F   \n",
      "98  392491        Mrs.    Theresa              R    Murphy      F   \n",
      "99  495141        Drs.      Tammy              B     Young      F   \n",
      "\n",
      "                          E Mail     Father's Name       Mother's Name  \\\n",
      "0        lois.walker@hotmail.com     Donald Walker        Helen Walker   \n",
      "1      brenda.robinson@gmail.com  Raymond Robinson       Judy Robinson   \n",
      "2         joe.robinson@gmail.com    Scott Robinson  Stephanie Robinson   \n",
      "3          diane.evans@yahoo.com       Jason Evans      Michelle Evans   \n",
      "4   benjamin.russell@charter.net   Gregory Russell   Elizabeth Russell   \n",
      "..                           ...               ...                 ...   \n",
      "95         jose.hill@hotmail.com       Carlos Hill           Anna Hill   \n",
      "96       harold.nelson@gmail.com    Richard Nelson       Pamela Nelson   \n",
      "97         nicole.ward@yahoo.com        Ralph Ward          Julia Ward   \n",
      "98      theresa.murphy@gmail.com     George Murphy   Jacqueline Murphy   \n",
      "99       tammy.young@comcast.net      Andrew Young        Brenda Young   \n",
      "\n",
      "   Mother's Maiden Name  Salary  \n",
      "0                 Lewis  168251  \n",
      "1                 Perry   51063  \n",
      "2                Taylor   50155  \n",
      "3                 Allen  180294  \n",
      "4                Nelson  117642  \n",
      "..                  ...     ...  \n",
      "95                Hayes  129774  \n",
      "96                Smith  156194  \n",
      "97                  Lee   95673  \n",
      "98             Peterson   51015  \n",
      "99             Robinson   93650  \n",
      "\n",
      "[100 rows x 11 columns]\n"
     ]
    }
   ],
   "source": [
    "import pandas as pd\n",
    "d=pd.read_csv(\"employees details - employees details.csv\")\n",
    "print(d)"
   ]
  },
  {
   "cell_type": "code",
   "execution_count": 38,
   "id": "24f753b5-0f22-4f2e-9aaf-ae8ab165091a",
   "metadata": {},
   "outputs": [
    {
     "name": "stdout",
     "output_type": "stream",
     "text": [
      "   Emp ID Name Prefix First Name Middle Initial Last Name Gender  \\\n",
      "5  499687         Mr.    Patrick              F    Bailey      M   \n",
      "6  539712         Ms.      Nancy              T     Baker      F   \n",
      "7  380086        Mrs.      Carol              V    Murphy      F   \n",
      "8  477616        Hon.    Frances              B     Young      F   \n",
      "9  162402        Hon.      Diana              T  Peterson      F   \n",
      "\n",
      "                         E Mail      Father's Name       Mother's Name  \\\n",
      "5        patrick.bailey@aol.com       Ralph Bailey        Laura Bailey   \n",
      "6            nancy.baker@bp.com        Scott Baker          Judy Baker   \n",
      "7        carol.murphy@gmail.com      Eugene Murphy    Katherine Murphy   \n",
      "8       frances.young@gmail.com         Fred Young       Lillian Young   \n",
      "9  diana.peterson@hotmail.co.uk  Jonathan Peterson  Christina Peterson   \n",
      "\n",
      "  Mother's Maiden Name  Salary  \n",
      "5            Henderson   72305  \n",
      "6               Thomas   98189  \n",
      "7             Peterson   60918  \n",
      "8                 Diaz  121587  \n",
      "9                 Ross   43010  \n"
     ]
    }
   ],
   "source": [
    " print(d[5:10])"
   ]
  },
  {
   "cell_type": "code",
   "execution_count": 48,
   "id": "3380c53d-e9ad-4a5c-b339-ded4997b657f",
   "metadata": {},
   "outputs": [
    {
     "name": "stdout",
     "output_type": "stream",
     "text": [
      "Emp ID                                  622406\n",
      "Name Prefix                                Mr.\n",
      "First Name                              Thomas\n",
      "Middle Initial                               Q\n",
      "Last Name                                Lewis\n",
      "Gender                                       M\n",
      "E Mail                  thomas.lewis@gmail.com\n",
      "Father's Name                       Ryan Lewis\n",
      "Mother's Name                       Lois Lewis\n",
      "Mother's Maiden Name                     Price\n",
      "Salary                                   73862\n",
      "Name: 19, dtype: object\n"
     ]
    }
   ],
   "source": [
    " print(d.loc[19])"
   ]
  },
  {
   "cell_type": "code",
   "execution_count": 54,
   "id": "0549c3e7-e11f-4471-95ba-3672515f4f8c",
   "metadata": {},
   "outputs": [
    {
     "name": "stdout",
     "output_type": "stream",
     "text": [
      "Index(['Emp ID', 'Name Prefix', 'First Name', 'Middle Initial', 'Last Name',\n",
      "       'Gender', 'E Mail', 'Father's Name', 'Mother's Name',\n",
      "       'Mother's Maiden Name', 'Salary'],\n",
      "      dtype='object')\n"
     ]
    }
   ],
   "source": [
    "print(d.columns)"
   ]
  },
  {
   "cell_type": "code",
   "execution_count": 56,
   "id": "907ff528-e866-44b1-998d-694809c530f4",
   "metadata": {},
   "outputs": [
    {
     "name": "stdout",
     "output_type": "stream",
     "text": [
      "(100, 11)\n"
     ]
    }
   ],
   "source": [
    "print(d.shape)"
   ]
  },
  {
   "cell_type": "code",
   "execution_count": 72,
   "id": "decc6c73-dfcc-4b6f-9dad-bd21325b9301",
   "metadata": {},
   "outputs": [
    {
     "name": "stdout",
     "output_type": "stream",
     "text": [
      "0          lois.walker@hotmail.com\n",
      "1        brenda.robinson@gmail.com\n",
      "2           joe.robinson@gmail.com\n",
      "3            diane.evans@yahoo.com\n",
      "4     benjamin.russell@charter.net\n",
      "                  ...             \n",
      "95           jose.hill@hotmail.com\n",
      "96         harold.nelson@gmail.com\n",
      "97           nicole.ward@yahoo.com\n",
      "98        theresa.murphy@gmail.com\n",
      "99         tammy.young@comcast.net\n",
      "Name: E Mail, Length: 100, dtype: object\n"
     ]
    }
   ],
   "source": [
    "print(d['E Mail'])"
   ]
  },
  {
   "cell_type": "code",
   "execution_count": 68,
   "id": "75412bbc-7fe1-4749-a752-904d494b7163",
   "metadata": {},
   "outputs": [
    {
     "name": "stdout",
     "output_type": "stream",
     "text": [
      "0     F\n",
      "1     F\n",
      "2     M\n",
      "3     F\n",
      "4     M\n",
      "     ..\n",
      "95    M\n",
      "96    M\n",
      "97    F\n",
      "98    F\n",
      "99    F\n",
      "Name: Gender, Length: 100, dtype: object\n"
     ]
    }
   ],
   "source": [
    "print(d.Gender)"
   ]
  },
  {
   "cell_type": "code",
   "execution_count": 85,
   "id": "be91f4c8-03dc-46dd-aced-c9b26299f0ea",
   "metadata": {},
   "outputs": [
    {
     "name": "stdout",
     "output_type": "stream",
     "text": [
      "0     677509\n",
      "1     940761\n",
      "2     428945\n",
      "3     408351\n",
      "4     193819\n",
      "       ...  \n",
      "95    639892\n",
      "96    704709\n",
      "97    461593\n",
      "98    392491\n",
      "99    495141\n",
      "Name: Emp ID, Length: 100, dtype: int64\n"
     ]
    }
   ],
   "source": [
    "print(d['Emp ID'])"
   ]
  },
  {
   "cell_type": "code",
   "execution_count": null,
   "id": "46a1fcd0-2b49-448e-abff-467a6e9f64d7",
   "metadata": {},
   "outputs": [],
   "source": []
  }
 ],
 "metadata": {
  "kernelspec": {
   "display_name": "Python [conda env:base] *",
   "language": "python",
   "name": "conda-base-py"
  },
  "language_info": {
   "codemirror_mode": {
    "name": "ipython",
    "version": 3
   },
   "file_extension": ".py",
   "mimetype": "text/x-python",
   "name": "python",
   "nbconvert_exporter": "python",
   "pygments_lexer": "ipython3",
   "version": "3.12.7"
  }
 },
 "nbformat": 4,
 "nbformat_minor": 5
}
