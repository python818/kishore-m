{
 "cells": [
  {
   "cell_type": "code",
   "execution_count": 1,
   "id": "07a475d9",
   "metadata": {},
   "outputs": [
    {
     "name": "stdout",
     "output_type": "stream",
     "text": [
      "       a  b  c\n",
      "One    1  2  3\n",
      "Two    4  5  6\n",
      "Three  7  8  9\n"
     ]
    }
   ],
   "source": [
    "import pandas as pd\n",
    "a=pd.DataFrame([[1,2,3],[4,5,6],[7,8,9]],index=['One','Two','Three'],columns=['a','b','c'])\n",
    "print(a)"
   ]
  },
  {
   "cell_type": "code",
   "execution_count": 3,
   "id": "a86b52f8",
   "metadata": {},
   "outputs": [],
   "source": [
    "a.to_excel(\"/Users/student/Downloads/store1.xlsx\")"
   ]
  },
  {
   "cell_type": "code",
   "execution_count": 4,
   "id": "ff5430cf",
   "metadata": {},
   "outputs": [],
   "source": [
    "b=pd.DataFrame([[10,20,30],[40,50,60],[70,80,90]],index=['Four','Five','Six'],columns=['X','Y','Z'])\n",
    "a.to_excel(\"/Users/student/Downloads/Sheet1.xlsx\",sheet_name=\"Sheet1\")"
   ]
  },
  {
   "cell_type": "code",
   "execution_count": 5,
   "id": "4764134c",
   "metadata": {},
   "outputs": [],
   "source": [
    "c=pd.DataFrame([[6,7],[1,2]],index=['a','b'],columns=['X','Y'])\n",
    "c.to_excel(\"/Users/student/Downloads/Sheet2.xlsx\",sheet_name=\"Sheet2\")"
   ]
  },
  {
   "cell_type": "code",
   "execution_count": 6,
   "id": "3fbf0306",
   "metadata": {},
   "outputs": [],
   "source": [
    "X=pd.read_excel(\"/Users/student/Downloads/Sheet1.xlsx\")\n",
    "Y=pd.read_excel(\"/Users/student/Downloads/Sheet2.xlsx\")\n",
    "Z=pd.concat([X,Y])\n",
    "Z.to_csv(\"/Users/student/Downloads/Store1.csv\")"
   ]
  },
  {
   "cell_type": "code",
   "execution_count": 11,
   "id": "83f43a2a",
   "metadata": {},
   "outputs": [
    {
     "name": "stdout",
     "output_type": "stream",
     "text": [
      "  Unnamed: 0    a    b    c    X    Y\n",
      "1          b  NaN  NaN  NaN  1.0  2.0\n",
      "0          a  NaN  NaN  NaN  6.0  7.0\n",
      "0        One  1.0  2.0  3.0  NaN  NaN\n",
      "1        Two  4.0  5.0  6.0  NaN  NaN\n",
      "2      Three  7.0  8.0  9.0  NaN  NaN\n"
     ]
    }
   ],
   "source": [
    "d=Z.sort_values([\"X\"])\n",
    "print(d)"
   ]
  },
  {
   "cell_type": "code",
   "execution_count": 12,
   "id": "a31e38de",
   "metadata": {},
   "outputs": [
    {
     "name": "stdout",
     "output_type": "stream",
     "text": [
      "  Unnamed: 0    a    b    c    X    Y\n",
      "1          b  NaN  NaN  NaN  1.0  2.0\n",
      "0          a  NaN  NaN  NaN  6.0  7.0\n",
      "0        One  1.0  2.0  3.0  NaN  NaN\n",
      "1        Two  4.0  5.0  6.0  NaN  NaN\n",
      "2      Three  7.0  8.0  9.0  NaN  NaN\n"
     ]
    }
   ],
   "source": [
    "d=Z.sort_values([\"Y\"])\n",
    "print(d)"
   ]
  },
  {
   "cell_type": "code",
   "execution_count": 13,
   "id": "bc450541",
   "metadata": {},
   "outputs": [
    {
     "name": "stdout",
     "output_type": "stream",
     "text": [
      "  Unnamed: 0  X  Y\n",
      "0          a  6  7\n",
      "1          b  1  2\n",
      "['Unnamed: 0', 'X', 'Y']\n",
      "2\n"
     ]
    }
   ],
   "source": [
    "df=pd.read_excel(\"/Users/student/Downloads/Sheet1.xlsx\")\n",
    "print(df)\n",
    "print(list(df))\n",
    "print(format(len(df)))"
   ]
  },
  {
   "cell_type": "code",
   "execution_count": null,
   "id": "80f15523",
   "metadata": {},
   "outputs": [],
   "source": []
  }
 ],
 "metadata": {
  "kernelspec": {
   "display_name": "Python 3 (ipykernel)",
   "language": "python",
   "name": "python3"
  },
  "language_info": {
   "codemirror_mode": {
    "name": "ipython",
    "version": 3
   },
   "file_extension": ".py",
   "mimetype": "text/x-python",
   "name": "python",
   "nbconvert_exporter": "python",
   "pygments_lexer": "ipython3",
   "version": "3.11.5"
  }
 },
 "nbformat": 4,
 "nbformat_minor": 5
}
